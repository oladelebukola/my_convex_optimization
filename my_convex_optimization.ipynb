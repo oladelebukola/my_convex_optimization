{
 "cells": [
  {
   "cell_type": "code",
   "execution_count": 78,
   "id": "69ba99d2",
   "metadata": {},
   "outputs": [],
   "source": [
    "import numpy as np\n",
    "import matplotlib.pyplot as plt\n",
    "from scipy.optimize import brentq\n",
    "from scipy.optimize import minimize_scalar\n",
    "from scipy.optimize import linprog"
   ]
  },
  {
   "cell_type": "code",
   "execution_count": 79,
   "id": "9de0b17b",
   "metadata": {},
   "outputs": [
    {
     "data": {
      "image/png": "[encoded data removed]",
      "text/plain": [
       "<Figure size 432x288 with 1 Axes>"
      ]
     },
     "metadata": {
      "needs_background": "light"
     },
     "output_type": "display_data"
    }
   ],
   "source": [
    "# Define the function f\n",
    "f = lambda x : (x - 1)**4 + x**2\n",
    "\n",
    "# Define the derivative of f\n",
    "f_prime = lambda x : 4*(x - 1)**3 + 2*x\n",
    "\n",
    "# Create an array of x values\n",
    "x = np.linspace(-2, 3, 1000)\n",
    "\n",
    "# Evaluate f and f' at each x value\n",
    "y = f(x)\n",
    "y_prime = f_prime(x)\n",
    "\n",
    "# Find the minimum of f by finding where f' equals zero\n",
    "x_min = 1.0\n",
    "y_min = f(x_min)\n",
    "\n",
    "# Plot f and f'\n",
    "def print_a_function(f, values):\n",
    "    fig, ax = plt.subplots()\n",
    "    ax.plot(values, f(values), label='f(x)')\n",
    "    ax.axhline(y=0, color='gray', linewidth=0.5) # Add a horizontal line at y=0\n",
    "    ax.axvline(x=1, color='gray', linewidth=0.5) # Add a vertical line at x=x_min\n",
    "    ax.legend()\n",
    "    plt.title(\"A Plot of $f(x)=(x - 1)^4 + x^2$\")\n",
    "    plt.xlabel(\"$x$\")\n",
    "    plt.ylabel(\"$f(x)$\")\n",
    "    plt.grid()\n",
    "    plt.show()\n",
    "\n",
    "print_a_function(f,x)\n"
   ]
  },
  {
   "cell_type": "code",
   "execution_count": 80,
   "id": "a48b51e3",
   "metadata": {},
   "outputs": [
    {
     "name": "stdout",
     "output_type": "stream",
     "text": [
      "-0.09313953334509412\n"
     ]
    }
   ],
   "source": [
    "f = lambda x : (x - 1)**4 + x**2\n",
    "f_prime = lambda x : 4*(x - 1)**3 + 2*x\n",
    "\n",
    "def find_root_newton_raphson(f, f_deriv, start, tol=1e-6, max_iter=1000):\n",
    "    x0 = start # start value for the roots of the equation\n",
    "    previous_x = x0 # The start value is  also the previous value.\n",
    "    for i in np.arange(max_iter): # initiating a for loop with 1000 iterations\n",
    "        try: # Using a try - execept block statement\n",
    "        \n",
    "            x0 -= f(x0)/ f_deriv(x0)  # Using Newton-Raphson Formular\n",
    "            \n",
    "        except (ValueError,ZeroDivisionError) :\n",
    "            print(\"Derivative is zero\")\n",
    "        \n",
    "        # Check if the difference between successive approximations falls below the tolerance level\n",
    "        if abs(x0-previous_x) < tol:\n",
    "            return x0\n",
    "        \n",
    "        previous_x = x0\n",
    "        \n",
    "    return previous_x\n",
    "        \n",
    "print(find_root_newton_raphson(f,f_prime,-2))"
   ]
  },
  {
   "cell_type": "code",
   "execution_count": 81,
   "id": "a741cbf6",
   "metadata": {},
   "outputs": [
    {
     "name": "stdout",
     "output_type": "stream",
     "text": [
      "0.99951171875\n"
     ]
    }
   ],
   "source": [
    "# Define the function f\n",
    "f = lambda x : (x - 1)**4 + x**2\n",
    "# Define the function f and its derivative f'\n",
    "f = lambda x : (x - 1)**4 + x**2\n",
    "f_prime = lambda x : 4*(x - 1)**3 + 2*x\n",
    "\n",
    "# Define the bisection method function to find the root of a function\n",
    "def find_root_bisection(f, a, b):\n",
    "    fmin = f(a) # Finding the function of a in the function f.\n",
    "    fmax = f(b) # Finding the function of b in the function f.\n",
    "    \n",
    "    if fmin * fmax > 0: # if the product of fmin and fmax does not produce a negative value,\n",
    "        f_prime = lambda x : 4*(x - 1)**3 + 2*x\n",
    "        find_root_newton_raphson(f, f_prime, 3) # call the newton raphson method on the function\n",
    "    \n",
    "    for i in np.arange(1000): # initiating a for loop with 1000 iterations.\n",
    "        c = (a + b) / 2 # finding the midpoint of the lower boundry (a) and the upper boundry (b)\n",
    "        \n",
    "        fc = f(c) # finding the function of c the midpoint in the function f.\n",
    "        \n",
    "        if fc == 0 or abs(b - a) < 0.001: # if the computated value is 0 or the absolute value of the difference between b and a is less than 0.001.\n",
    "            return c # returns c as the roots of the equation.\n",
    "            \n",
    "        elif fmin * fc < 0: # if the product between fmin and fc is less than zero,\n",
    "            b = c # then the new upper boundry becomes the value of c.\n",
    "        else:\n",
    "            a = c # Else the opposite is the case.\n",
    "            fmin = fc # the value of fmin becomes fc.\n",
    "    \n",
    "    return (a + b) / 2 # if after 1000 iterations, return the midpoint of the lower boundry (a) and the upper boundry (b)\n",
    "\n",
    "roots = find_root_bisection(f, 0, 1)  \n",
    "print(roots)"
   ]
  },
  {
   "cell_type": "code",
   "execution_count": 82,
   "id": "07987882",
   "metadata": {},
   "outputs": [
    {
     "name": "stdout",
     "output_type": "stream",
     "text": [
      "Root using find_root_bisection: 0.41064453125\n",
      "Root using Brent's method: 0.4102454876985416\n"
     ]
    }
   ],
   "source": [
    "# Find the root of f' using find_root\n",
    "root_find_root_bisection = find_root_bisection(f_prime, -2, 2)\n",
    "print(\"Root using find_root_bisection:\", root_find_root_bisection)\n",
    "\n",
    "# Find the root of f' using Brent's method\n",
    "root_brentq = brentq(f_prime, -2, 2)\n",
    "print(\"Root using Brent's method:\", root_brentq)"
   ]
  },
  {
   "cell_type": "raw",
   "id": "aab0f635",
   "metadata": {},
   "source": [
    "As shown above, when it is checked against Brent's method for optimization, it is found to be correct.\n"
   ]
  },
  {
   "cell_type": "code",
   "execution_count": 83,
   "id": "ae7f2bd7",
   "metadata": {
    "scrolled": true
   },
   "outputs": [
    {
     "name": "stdout",
     "output_type": "stream",
     "text": [
      "x_min: 0.41, f(x_min): 0.29\n"
     ]
    },
    {
     "data": {
      "image/png": "[encoded data removed]",
      "text/plain": [
       "<Figure size 432x288 with 1 Axes>"
      ]
     },
     "metadata": {
      "needs_background": "light"
     },
     "output_type": "display_data"
    }
   ],
   "source": [
    "# Define the function f\n",
    "f = lambda x : (x - 1)**4 + x**2\n",
    "\n",
    "# Find the minimum of f using the Brent method\n",
    "res = minimize_scalar(f, method='brent')\n",
    "\n",
    "# Print the results\n",
    "print('x_min: {:.02f}, f(x_min): {:.02f}'.format(res.x, res.fun))\n",
    "\n",
    "# Plot the function\n",
    "x = np.linspace(res.x - 1, res.x + 1, 100)\n",
    "y = [f(val) for val in x]\n",
    "plt.plot(x, y, color='blue', label='f')\n",
    "\n",
    "# Plot the minimum\n",
    "plt.scatter(res.x, res.fun, color='red', marker='x', label='Minimum')\n",
    "\n",
    "# Add grid and legend\n",
    "plt.grid()\n",
    "plt.legend(loc=1)\n",
    "plt.show()\n",
    "\n"
   ]
  },
  {
   "cell_type": "raw",
   "id": "26a78a62",
   "metadata": {},
   "source": [
    "using the Brent method,this line indicates that the minimum of the function f has been found, and the minimum occurs at x = 0.41. The value of f(x_min) at the minimum point is 0.29."
   ]
  },
  {
   "cell_type": "raw",
   "id": "673246db",
   "metadata": {},
   "source": [
    "def gradient_descent(f, f_prime, start, learning_rate=0.1):\n",
    "    Parameters\n",
    "    f (function): The function to minimize.\n",
    "    f_prime (function): The derivative of the function f.\n",
    "    start (float): The starting point of the algorithm.\n",
    "    learning_rate (float): The learning rate or step size.\n",
    "    \n",
    "    "
   ]
  },
  {
   "cell_type": "code",
   "execution_count": 84,
   "id": "4323a186",
   "metadata": {},
   "outputs": [
    {
     "name": "stdout",
     "output_type": "stream",
     "text": [
      "xmin: 0.2f, f(x_min): 0.2f (0.41023044092999633, 0.2892734246366677)\n"
     ]
    }
   ],
   "source": [
    "def gradient_descent(f, f_prime, start, learning_rate=0.1, eps=1e-6):\n",
    "    x = start\n",
    "    while True:\n",
    "        grad = f_prime(x)\n",
    "        x_new = x - learning_rate * grad\n",
    "        if abs(x_new - x) < eps:\n",
    "            return x_new\n",
    "        x = x_new\n",
    "\n",
    "\n",
    "f = lambda x : (x - 1) ** 4 + x ** 2\n",
    "f_prime = lambda x : 4*((x-1)**3) + 2*x\n",
    "start = -1\n",
    "x_min = gradient_descent(f, f_prime, start, 0.01)\n",
    "f_min = f(x_min)\n",
    "\n",
    "print(\"xmin: 0.2f, f(x_min): 0.2f\",  (x_min, f_min))\n"
   ]
  },
  {
   "cell_type": "raw",
   "id": "ec4ba4d1",
   "metadata": {},
   "source": [
    "The learning_rate parameter determines the step size of each iteration of the algorithm."
   ]
  },
  {
   "cell_type": "code",
   "execution_count": 85,
   "id": "805446d9",
   "metadata": {},
   "outputs": [],
   "source": [
    "#INITIALISING A,b and c as numpy arrays\n",
    "\n",
    "# Coefficients of the objective function\n",
    "c = np.array([-1, -2])\n",
    "\n",
    "# Coefficients of the constraints\n",
    "A = np.array([[2, 1], [-4, 5], [1, -2]])\n",
    "b = np.array([10, 8, 3])"
   ]
  },
  {
   "cell_type": "code",
   "execution_count": 86,
   "id": "5619f7b6",
   "metadata": {},
   "outputs": [
    {
     "name": "stdout",
     "output_type": "stream",
     "text": [
      "0.99951171875\n",
      "The root of f is at x = 0.41023044092999633\n"
     ]
    }
   ],
   "source": [
    "# Using find_root to find the root of f prime\n",
    "f_prime = 4*(x - 1)**3 + 2*x\n",
    "\n",
    "# Define the function f and its derivative f'\n",
    "f = lambda x : (x - 1)**4 + x**2\n",
    "f_prime = lambda x : 4*(x - 1)**3 + 2*x\n",
    "\n",
    "# Define the bisection method function to find the root of a function\n",
    "def find_root_bisection(f, a, b):\n",
    "    fmin = f(a) # Finding the function of a in the function f.\n",
    "    fmax = f(b) # Finding the function of b in the function f.\n",
    "    \n",
    "    if fmin * fmax > 0: # if the product of fmin and fmax does not produce a negative value,\n",
    "        f_prime = lambda x : 4*(x - 1)**3 + 2*x\n",
    "        find_root_newton_raphson(f, f_prime, 3) # call the newton raphson method on the function\n",
    "    \n",
    "    for i in np.arange(1000): # initiating a for loop with 1000 iterations.\n",
    "        c = (a + b) / 2 # finding the midpoint of the lower boundry (a) and the upper boundry (b)\n",
    "        \n",
    "        fc = f(c) # finding the function of c the midpoint in the function f.\n",
    "        \n",
    "        if fc == 0 or abs(b - a) < 0.001: # if the computated value is 0 or the absolute value of the difference between b and a is less than 0.001.\n",
    "            return c # returns c as the roots of the equation.\n",
    "            \n",
    "        elif fmin * fc < 0: # if the product between fmin and fc is less than zero,\n",
    "            b = c # then the new upper boundry becomes the value of c.\n",
    "        else:\n",
    "            a = c # Else the opposite is the case.\n",
    "            fmin = fc # the value of fmin becomes fc.\n",
    "    \n",
    "    return (a + b) / 2 # if after 1000 iterations, return the midpoint of the lower boundry (a) and the upper boundry (b)\n",
    "\n",
    "roots = find_root_bisection(f, 0, 1)  \n",
    "print(roots)\n",
    "print(\"The root of f is at x =\", x_min)"
   ]
  },
  {
   "cell_type": "code",
   "execution_count": 87,
   "id": "25ecf860",
   "metadata": {},
   "outputs": [
    {
     "name": "stdout",
     "output_type": "stream",
     "text": [
      "Root using Brent's method: 0.4102454876985416\n",
      "x_min: 0.41, f(x_min): 0.29\n"
     ]
    },
    {
     "data": {
      "image/png": "[encoded data removed]",
      "text/plain": [
       "<Figure size 432x288 with 1 Axes>"
      ]
     },
     "metadata": {
      "needs_background": "light"
     },
     "output_type": "display_data"
    }
   ],
   "source": [
    "# Find the root of f' using Brent's method\n",
    "root_brentq = brentq(f_prime, -2, 2)\n",
    "print(\"Root using Brent's method:\", root_brentq)\n",
    "\n",
    "res = minimize_scalar(f, method='brent')\n",
    "print('x_min: %.02f, f(x_min): %.02f' % (res.x, res.fun))\n",
    "\n",
    "# plot curve\n",
    "x = np.linspace(res.x - 1, res.x + 1, 100)\n",
    "y = [f(val) for val in x]\n",
    "plt.plot(x, y, color='blue', label='f')\n",
    "\n",
    "# plot optima\n",
    "plt.scatter(res.x, res.fun, color='red', marker='x', label='Minimum')\n",
    "\n",
    "plt.grid()\n",
    "plt.legend(loc = 1)\n",
    "plt.show()\n"
   ]
  },
  {
   "cell_type": "raw",
   "id": "5bc3eb23",
   "metadata": {},
   "source": [
    "Yes! the result is similar to the previous Brent's method"
   ]
  },
  {
   "cell_type": "code",
   "execution_count": 88,
   "id": "2327dba9",
   "metadata": {},
   "outputs": [
    {
     "name": "stdout",
     "output_type": "stream",
     "text": [
      "The optimal value is: -11.0 and is reached for x = [3. 4.]\n"
     ]
    }
   ],
   "source": [
    "def solve_linear_problem(A, b, c):\n",
    "    result = linprog(c = c, A_ub = A, b_ub = b, bounds=(0, None), method='simplex')\n",
    "    return round(result.fun, 1), result.x\n",
    "\n",
    "optimal_value, optimal_arg = solve_linear_problem(A, b, c)\n",
    "print(\"The optimal value is:\", optimal_value, \"and is reached for x =\", optimal_arg)\n"
   ]
  },
  {
   "cell_type": "raw",
   "id": "c2d5a50c",
   "metadata": {},
   "source": [
    "Yes, the solution you found is located on the edge of the polytope. This is because the objective function has a minimum value of 0, which means it is possible to achieve this value by setting both variables x1 and x2 to 0."
   ]
  },
  {
   "cell_type": "code",
   "execution_count": null,
   "id": "af6013ca",
   "metadata": {},
   "outputs": [],
   "source": []
  }
 ],
 "metadata": {
  "kernelspec": {
   "display_name": "Python 3",
   "language": "python",
   "name": "python3"
  },
  "language_info": {
   "codemirror_mode": {
    "name": "ipython",
    "version": 3
   },
   "file_extension": ".py",
   "mimetype": "text/x-python",
   "name": "python",
   "nbconvert_exporter": "python",
   "pygments_lexer": "ipython3",
   "version": "3.6.7"
  }
 },
 "nbformat": 4,
 "nbformat_minor": 5
}
